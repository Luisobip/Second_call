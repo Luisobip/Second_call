{
 "cells": [
  {
   "cell_type": "markdown",
   "id": "370db117",
   "metadata": {},
   "source": [
    "### Instructions"
   ]
  },
  {
   "cell_type": "markdown",
   "id": "7d5cdcf8",
   "metadata": {},
   "source": [
    "Create a project with code that solves the following questions. Please generate a repository in GitHub with the code and make all necessary commits. The use of any AI tool is forbidden.\n",
    "\n",
    "1. (4 points) Generate a pipeline for processing a text. The pipeline will have the following porcesses: Sentence splitter, word tokenization, conver acronims with dots to acronims whitout dots with regex (U.S.A. to USA), remove stopwords, lematizer. You must do each step in pure python and with a NLP library of your choice.\n",
    "\n",
    "2. (4 points) Create an application with user interface that call a local LLM to solve any problem you choose. Modify the system prompt to better solve the problem.\n",
    "\n",
    "3. (2 points) Integrate in the application of the previous question with a speech model for speech to text and text to speech. The model should be from Huging Face.\n",
    "\n",
    "Please upload the code files and a link to the github repository. The assesment will be with a one on one defense. "
   ]
  }
 ],
 "metadata": {
  "language_info": {
   "name": "python"
  }
 },
 "nbformat": 4,
 "nbformat_minor": 5
}
